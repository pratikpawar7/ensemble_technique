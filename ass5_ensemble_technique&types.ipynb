{
 "cells": [
  {
   "cell_type": "code",
   "execution_count": null,
   "id": "aa1443b2-c89b-4841-9a8b-0acff8d492ec",
   "metadata": {},
   "outputs": [],
   "source": [
    "Q1. What is Random Forest Regressor?\n",
    "\n",
    "Ans :\n",
    "    A Random Forest Regressor is a type of ensemble learning model used for regression tasks,\n",
    "    which involves predicting continuous values.\n",
    "    builds multiple decision trees from random subsets of the data and averages their predictions\n",
    "    to improve accuracy and reduce overfitting. "
   ]
  },
  {
   "cell_type": "code",
   "execution_count": null,
   "id": "55a5c8ce-f420-40bc-82e0-4de1c98225ec",
   "metadata": {},
   "outputs": [],
   "source": [
    "Q2. How does Random Forest Regressor reduce the risk of overfitting?\n",
    "\n",
    "Ans:\n",
    "    A Random Forest Regressor reduces overfitting by combining the predictions of multiple decision trees.\n",
    "    \n",
    "Here’s how it works:\n",
    "\n",
    "Bagging: Each tree is trained on a different random subset of the data, which helps prevent \n",
    "            any single tree from fitting too closely to the training data.\n",
    "Averaging: The final prediction is the average of the predictions from all trees, \n",
    "            smoothing out individual tree biases and reducing variance.\n",
    "    "
   ]
  },
  {
   "cell_type": "code",
   "execution_count": null,
   "id": "15cc801d-e89a-444e-9860-8911ecb940ec",
   "metadata": {},
   "outputs": [],
   "source": [
    "Q3. How does Random Forest Regressor aggregate the predictions of multiple decision trees?\n",
    "\n",
    "Ans:\n",
    "    Averaging: The Random Forest Regressor computes the average of all these predictions to make the\n",
    "    final prediction for a given input."
   ]
  },
  {
   "cell_type": "code",
   "execution_count": null,
   "id": "27ceda9a-993e-49f0-a09e-8e9ac3b599bd",
   "metadata": {},
   "outputs": [],
   "source": [
    "Q4. What are the hyperparameters of Random Forest Regressor?\n",
    "\n",
    "Ans:.\n",
    "    n_estimators: Number of decision trees in the forest.\n",
    "max_depth: Maximum depth of each tree, controlling how deep each tree can grow.\n",
    "min_samples_split: Minimum number of samples required to split an internal node.\n",
    "min_samples_leaf: Minimum number of samples required to be at a leaf node.\n",
    "max_features: Number of features to consider when looking for the best split.\n",
    "    "
   ]
  },
  {
   "cell_type": "code",
   "execution_count": null,
   "id": "b6388225-c661-475e-b21d-24f67f5fb1fd",
   "metadata": {},
   "outputs": [],
   "source": [
    "5. What is the difference between Random Forest Regressor and Decision Tree Regressor?\n",
    "\n",
    "Ans:\n",
    "Random Forest Regressor and Decision Tree Regressor differ in the following ways:\n",
    "\n",
    "Model Structure:\n",
    "Decision Tree Regressor: Uses a single decision tree to make predictions by splitting the data based on feature values.\n",
    "Random Forest Regressor: Combines multiple decision trees, each trained on different subsets of the data.\n",
    "\n",
    "Overfitting:\n",
    "Decision Tree Regressor: Prone to overfitting, especially with deep trees.\n",
    "Random Forest Regressor: Reduces overfitting by averaging predictions from multiple trees.\n",
    "\n",
    "Prediction Aggregation:\n",
    "Decision Tree Regressor: Makes predictions based on a single tree.\n",
    "Random Forest Regressor: Averages the predictions of all trees to improve accuracy and robustness."
   ]
  },
  {
   "cell_type": "code",
   "execution_count": null,
   "id": "309de629-3c8b-4705-a867-754897825304",
   "metadata": {},
   "outputs": [],
   "source": [
    "Q6. What are the advantages and disadvantages of Random Forest Regressor?\n",
    "\n",
    "Ans:\n",
    "    \n",
    "    \n",
    "Advantages of Random Forest Regressor:\n",
    "    \n",
    "Reduces Overfitting: Combines multiple decision trees to average out errors, reducing overfitting and improving generalization.\n",
    "Handles Complex Data: Can model complex, non-linear relationships between features and target variables.\n",
    "Feature Importance: Provides insights into which features are most important for predictions.\n",
    "Robust to Noise: Less sensitive to outliers and noisy data compared to individual decision trees.\n",
    "\n",
    "\n",
    "Disadvantages of Random Forest Regressor:\n",
    "    \n",
    "Complexity: The model is more complex and less interpretable than a single decision tree.\n",
    "Computational Cost: Training and predicting can be resource-intensive, especially with many trees.\n",
    "Slower Predictions: Predictions can be slower compared to simpler models due to the need to aggregate results from multiple trees."
   ]
  },
  {
   "cell_type": "code",
   "execution_count": null,
   "id": "346d783f-dcb5-4060-a0bf-ca3b0ee8a950",
   "metadata": {},
   "outputs": [],
   "source": [
    "Q7. What is the output of Random Forest Regressor?\n",
    "\n",
    "Ans:\n",
    "    The output of a Random Forest Regressor is the average of the predictions made by all \n",
    "    the individual decision trees in the forest. \n",
    "    "
   ]
  },
  {
   "cell_type": "code",
   "execution_count": null,
   "id": "91237b79-e666-4603-af40-9a876757a2dc",
   "metadata": {},
   "outputs": [],
   "source": [
    "Q8. Can Random Forest Regressor be used for classification tasks?\n",
    "\n",
    "Ans:\n",
    "    No, a Random Forest Regressor is specifically designed for regression tasks,\n",
    "    where the goal is to predict continuous values. For classification tasks, where the \n",
    "    goal is to predict discrete class labels, you should use a Random Forest Classifier."
   ]
  }
 ],
 "metadata": {
  "kernelspec": {
   "display_name": "Python 3 (ipykernel)",
   "language": "python",
   "name": "python3"
  },
  "language_info": {
   "codemirror_mode": {
    "name": "ipython",
    "version": 3
   },
   "file_extension": ".py",
   "mimetype": "text/x-python",
   "name": "python",
   "nbconvert_exporter": "python",
   "pygments_lexer": "ipython3",
   "version": "3.10.8"
  }
 },
 "nbformat": 4,
 "nbformat_minor": 5
}
