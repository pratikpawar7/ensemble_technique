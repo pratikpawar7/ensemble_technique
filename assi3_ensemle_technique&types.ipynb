{
 "cells": [
  {
   "cell_type": "code",
   "execution_count": null,
   "id": "67e4c007-5804-4e5e-acb3-d0361f5a3ac5",
   "metadata": {},
   "outputs": [],
   "source": [
    "Build a random forest classifier to predict the risk of heart disease based on a dataset of patient\n",
    "information. The dataset contains 303 instances with 14 features, including age, sex, chest pain type,\n",
    "resting blood pressure, serum cholesterol, and maximum heart rate achieved.\n",
    "Dataset link: https://drive.google.com/file/d/1bGoIE4Z2kG5nyh-fGZAJ7LH0ki3UfmSJ/view?\n",
    "usp=share_link\n",
    "Q1. Preprocess the dataset by handling missing values, encoding categorical variables, and scaling the\n",
    "numerical features if necessary.\n",
    "Q2. Split the dataset into a training set (70%) and a test set (30%).\n",
    "Q3. Train a random forest classifier on the training set using 100 trees and a maximum depth of 10 for each\n",
    "tree. Use the default values for other hyperparameters.\n",
    "Q5. Use the feature importance scores to identify the top 5 most important features in predicting heart\n",
    "disease risk. Visualise the feature importances using a bar chart.\n",
    "Q6. Tune the hyperparameters of the random forest classifier using grid search or random search. Try\n",
    "different values of the number of trees, maximum depth, minimum samples split, and minimum samples\n",
    "leaf. Use 5-fold cross-validation to evaluate the performance of each set of hyperparameters.\n",
    "Q7. Report the best set of hyperparameters found by the search and the corresponding performance\n",
    "metrics. Compare the performance of the tuned model with the default model.\n",
    "Q8. Interpret the model by analysing the decision boundaries of the random forest classifier. Plot the\n",
    "decision boundaries on a scatter plot of two of the most important features. Discuss the insights and\n",
    "limitations of the model for predicting heart disease risk."
   ]
  },
  {
   "cell_type": "code",
   "execution_count": 1,
   "id": "5ab86d5d-c139-4d56-9586-991da15d9067",
   "metadata": {},
   "outputs": [],
   "source": [
    "import pandas as pd \n",
    "df  = pd.read_csv('dataset.csv')"
   ]
  },
  {
   "cell_type": "code",
   "execution_count": 2,
   "id": "4d867a05-0017-4690-b494-bc4305bcde09",
   "metadata": {},
   "outputs": [
    {
     "data": {
      "text/html": [
       "<div>\n",
       "<style scoped>\n",
       "    .dataframe tbody tr th:only-of-type {\n",
       "        vertical-align: middle;\n",
       "    }\n",
       "\n",
       "    .dataframe tbody tr th {\n",
       "        vertical-align: top;\n",
       "    }\n",
       "\n",
       "    .dataframe thead th {\n",
       "        text-align: right;\n",
       "    }\n",
       "</style>\n",
       "<table border=\"1\" class=\"dataframe\">\n",
       "  <thead>\n",
       "    <tr style=\"text-align: right;\">\n",
       "      <th></th>\n",
       "      <th>age</th>\n",
       "      <th>sex</th>\n",
       "      <th>cp</th>\n",
       "      <th>trestbps</th>\n",
       "      <th>chol</th>\n",
       "      <th>fbs</th>\n",
       "      <th>restecg</th>\n",
       "      <th>thalach</th>\n",
       "      <th>exang</th>\n",
       "      <th>oldpeak</th>\n",
       "      <th>slope</th>\n",
       "      <th>ca</th>\n",
       "      <th>thal</th>\n",
       "      <th>target</th>\n",
       "    </tr>\n",
       "  </thead>\n",
       "  <tbody>\n",
       "    <tr>\n",
       "      <th>0</th>\n",
       "      <td>63</td>\n",
       "      <td>1</td>\n",
       "      <td>3</td>\n",
       "      <td>145</td>\n",
       "      <td>233</td>\n",
       "      <td>1</td>\n",
       "      <td>0</td>\n",
       "      <td>150</td>\n",
       "      <td>0</td>\n",
       "      <td>2.3</td>\n",
       "      <td>0</td>\n",
       "      <td>0</td>\n",
       "      <td>1</td>\n",
       "      <td>1</td>\n",
       "    </tr>\n",
       "    <tr>\n",
       "      <th>1</th>\n",
       "      <td>37</td>\n",
       "      <td>1</td>\n",
       "      <td>2</td>\n",
       "      <td>130</td>\n",
       "      <td>250</td>\n",
       "      <td>0</td>\n",
       "      <td>1</td>\n",
       "      <td>187</td>\n",
       "      <td>0</td>\n",
       "      <td>3.5</td>\n",
       "      <td>0</td>\n",
       "      <td>0</td>\n",
       "      <td>2</td>\n",
       "      <td>1</td>\n",
       "    </tr>\n",
       "    <tr>\n",
       "      <th>2</th>\n",
       "      <td>41</td>\n",
       "      <td>0</td>\n",
       "      <td>1</td>\n",
       "      <td>130</td>\n",
       "      <td>204</td>\n",
       "      <td>0</td>\n",
       "      <td>0</td>\n",
       "      <td>172</td>\n",
       "      <td>0</td>\n",
       "      <td>1.4</td>\n",
       "      <td>2</td>\n",
       "      <td>0</td>\n",
       "      <td>2</td>\n",
       "      <td>1</td>\n",
       "    </tr>\n",
       "    <tr>\n",
       "      <th>3</th>\n",
       "      <td>56</td>\n",
       "      <td>1</td>\n",
       "      <td>1</td>\n",
       "      <td>120</td>\n",
       "      <td>236</td>\n",
       "      <td>0</td>\n",
       "      <td>1</td>\n",
       "      <td>178</td>\n",
       "      <td>0</td>\n",
       "      <td>0.8</td>\n",
       "      <td>2</td>\n",
       "      <td>0</td>\n",
       "      <td>2</td>\n",
       "      <td>1</td>\n",
       "    </tr>\n",
       "    <tr>\n",
       "      <th>4</th>\n",
       "      <td>57</td>\n",
       "      <td>0</td>\n",
       "      <td>0</td>\n",
       "      <td>120</td>\n",
       "      <td>354</td>\n",
       "      <td>0</td>\n",
       "      <td>1</td>\n",
       "      <td>163</td>\n",
       "      <td>1</td>\n",
       "      <td>0.6</td>\n",
       "      <td>2</td>\n",
       "      <td>0</td>\n",
       "      <td>2</td>\n",
       "      <td>1</td>\n",
       "    </tr>\n",
       "  </tbody>\n",
       "</table>\n",
       "</div>"
      ],
      "text/plain": [
       "   age  sex  cp  trestbps  chol  fbs  restecg  thalach  exang  oldpeak  slope  \\\n",
       "0   63    1   3       145   233    1        0      150      0      2.3      0   \n",
       "1   37    1   2       130   250    0        1      187      0      3.5      0   \n",
       "2   41    0   1       130   204    0        0      172      0      1.4      2   \n",
       "3   56    1   1       120   236    0        1      178      0      0.8      2   \n",
       "4   57    0   0       120   354    0        1      163      1      0.6      2   \n",
       "\n",
       "   ca  thal  target  \n",
       "0   0     1       1  \n",
       "1   0     2       1  \n",
       "2   0     2       1  \n",
       "3   0     2       1  \n",
       "4   0     2       1  "
      ]
     },
     "execution_count": 2,
     "metadata": {},
     "output_type": "execute_result"
    }
   ],
   "source": [
    "df.head()"
   ]
  },
  {
   "cell_type": "code",
   "execution_count": 3,
   "id": "b28eace2-d62a-43ac-ad05-a4e4e3315d1e",
   "metadata": {},
   "outputs": [
    {
     "name": "stdout",
     "output_type": "stream",
     "text": [
      "<class 'pandas.core.frame.DataFrame'>\n",
      "RangeIndex: 303 entries, 0 to 302\n",
      "Data columns (total 14 columns):\n",
      " #   Column    Non-Null Count  Dtype  \n",
      "---  ------    --------------  -----  \n",
      " 0   age       303 non-null    int64  \n",
      " 1   sex       303 non-null    int64  \n",
      " 2   cp        303 non-null    int64  \n",
      " 3   trestbps  303 non-null    int64  \n",
      " 4   chol      303 non-null    int64  \n",
      " 5   fbs       303 non-null    int64  \n",
      " 6   restecg   303 non-null    int64  \n",
      " 7   thalach   303 non-null    int64  \n",
      " 8   exang     303 non-null    int64  \n",
      " 9   oldpeak   303 non-null    float64\n",
      " 10  slope     303 non-null    int64  \n",
      " 11  ca        303 non-null    int64  \n",
      " 12  thal      303 non-null    int64  \n",
      " 13  target    303 non-null    int64  \n",
      "dtypes: float64(1), int64(13)\n",
      "memory usage: 33.3 KB\n"
     ]
    }
   ],
   "source": [
    "df.info()"
   ]
  },
  {
   "cell_type": "code",
   "execution_count": 8,
   "id": "e7acc888-8fae-4f37-9fc9-f6f88a9f6f06",
   "metadata": {},
   "outputs": [
    {
     "name": "stdout",
     "output_type": "stream",
     "text": [
      "age    sex    cp     trestbps  chol   fbs    restecg  thalach  exang  oldpeak  slope  ca     thal   target\n",
      "False  False  False  False     False  False  False    False    False  False    False  False  False  False     303\n",
      "dtype: int64\n"
     ]
    }
   ],
   "source": [
    "print(df.isnull().value_counts())"
   ]
  },
  {
   "cell_type": "code",
   "execution_count": 14,
   "id": "e61f817c-c938-46ee-b370-833dbd18069b",
   "metadata": {},
   "outputs": [],
   "source": [
    "X= df.drop(labels=['target'] , axis =1 )\n",
    "y  = df['target']"
   ]
  },
  {
   "cell_type": "code",
   "execution_count": null,
   "id": "e1217f93-2259-4b2b-a552-21a06ae96258",
   "metadata": {},
   "outputs": [],
   "source": []
  },
  {
   "cell_type": "code",
   "execution_count": 15,
   "id": "292679c9-3a23-4595-9195-2c663d5fa86b",
   "metadata": {},
   "outputs": [],
   "source": [
    "from sklearn.model_selection import train_test_split\n",
    "X_train, X_test, y_train, y_test = train_test_split(\n",
    "    X, y, test_size=0.33, random_state=42)"
   ]
  },
  {
   "cell_type": "code",
   "execution_count": 16,
   "id": "d6941722-cf9c-4eb5-8ff0-bd61f31cfa1d",
   "metadata": {},
   "outputs": [],
   "source": [
    "from sklearn.ensemble import RandomForestClassifier\n",
    "random = RandomForestClassifier(n_estimators=100 ,  max_depth=10)"
   ]
  },
  {
   "cell_type": "code",
   "execution_count": 18,
   "id": "3b15a833-ed1b-4f94-8ee8-4b540a797002",
   "metadata": {},
   "outputs": [
    {
     "data": {
      "text/html": [
       "<style>#sk-container-id-1 {color: black;background-color: white;}#sk-container-id-1 pre{padding: 0;}#sk-container-id-1 div.sk-toggleable {background-color: white;}#sk-container-id-1 label.sk-toggleable__label {cursor: pointer;display: block;width: 100%;margin-bottom: 0;padding: 0.3em;box-sizing: border-box;text-align: center;}#sk-container-id-1 label.sk-toggleable__label-arrow:before {content: \"▸\";float: left;margin-right: 0.25em;color: #696969;}#sk-container-id-1 label.sk-toggleable__label-arrow:hover:before {color: black;}#sk-container-id-1 div.sk-estimator:hover label.sk-toggleable__label-arrow:before {color: black;}#sk-container-id-1 div.sk-toggleable__content {max-height: 0;max-width: 0;overflow: hidden;text-align: left;background-color: #f0f8ff;}#sk-container-id-1 div.sk-toggleable__content pre {margin: 0.2em;color: black;border-radius: 0.25em;background-color: #f0f8ff;}#sk-container-id-1 input.sk-toggleable__control:checked~div.sk-toggleable__content {max-height: 200px;max-width: 100%;overflow: auto;}#sk-container-id-1 input.sk-toggleable__control:checked~label.sk-toggleable__label-arrow:before {content: \"▾\";}#sk-container-id-1 div.sk-estimator input.sk-toggleable__control:checked~label.sk-toggleable__label {background-color: #d4ebff;}#sk-container-id-1 div.sk-label input.sk-toggleable__control:checked~label.sk-toggleable__label {background-color: #d4ebff;}#sk-container-id-1 input.sk-hidden--visually {border: 0;clip: rect(1px 1px 1px 1px);clip: rect(1px, 1px, 1px, 1px);height: 1px;margin: -1px;overflow: hidden;padding: 0;position: absolute;width: 1px;}#sk-container-id-1 div.sk-estimator {font-family: monospace;background-color: #f0f8ff;border: 1px dotted black;border-radius: 0.25em;box-sizing: border-box;margin-bottom: 0.5em;}#sk-container-id-1 div.sk-estimator:hover {background-color: #d4ebff;}#sk-container-id-1 div.sk-parallel-item::after {content: \"\";width: 100%;border-bottom: 1px solid gray;flex-grow: 1;}#sk-container-id-1 div.sk-label:hover label.sk-toggleable__label {background-color: #d4ebff;}#sk-container-id-1 div.sk-serial::before {content: \"\";position: absolute;border-left: 1px solid gray;box-sizing: border-box;top: 0;bottom: 0;left: 50%;z-index: 0;}#sk-container-id-1 div.sk-serial {display: flex;flex-direction: column;align-items: center;background-color: white;padding-right: 0.2em;padding-left: 0.2em;position: relative;}#sk-container-id-1 div.sk-item {position: relative;z-index: 1;}#sk-container-id-1 div.sk-parallel {display: flex;align-items: stretch;justify-content: center;background-color: white;position: relative;}#sk-container-id-1 div.sk-item::before, #sk-container-id-1 div.sk-parallel-item::before {content: \"\";position: absolute;border-left: 1px solid gray;box-sizing: border-box;top: 0;bottom: 0;left: 50%;z-index: -1;}#sk-container-id-1 div.sk-parallel-item {display: flex;flex-direction: column;z-index: 1;position: relative;background-color: white;}#sk-container-id-1 div.sk-parallel-item:first-child::after {align-self: flex-end;width: 50%;}#sk-container-id-1 div.sk-parallel-item:last-child::after {align-self: flex-start;width: 50%;}#sk-container-id-1 div.sk-parallel-item:only-child::after {width: 0;}#sk-container-id-1 div.sk-dashed-wrapped {border: 1px dashed gray;margin: 0 0.4em 0.5em 0.4em;box-sizing: border-box;padding-bottom: 0.4em;background-color: white;}#sk-container-id-1 div.sk-label label {font-family: monospace;font-weight: bold;display: inline-block;line-height: 1.2em;}#sk-container-id-1 div.sk-label-container {text-align: center;}#sk-container-id-1 div.sk-container {/* jupyter's `normalize.less` sets `[hidden] { display: none; }` but bootstrap.min.css set `[hidden] { display: none !important; }` so we also need the `!important` here to be able to override the default hidden behavior on the sphinx rendered scikit-learn.org. See: https://github.com/scikit-learn/scikit-learn/issues/21755 */display: inline-block !important;position: relative;}#sk-container-id-1 div.sk-text-repr-fallback {display: none;}</style><div id=\"sk-container-id-1\" class=\"sk-top-container\"><div class=\"sk-text-repr-fallback\"><pre>RandomForestClassifier(max_depth=10)</pre><b>In a Jupyter environment, please rerun this cell to show the HTML representation or trust the notebook. <br />On GitHub, the HTML representation is unable to render, please try loading this page with nbviewer.org.</b></div><div class=\"sk-container\" hidden><div class=\"sk-item\"><div class=\"sk-estimator sk-toggleable\"><input class=\"sk-toggleable__control sk-hidden--visually\" id=\"sk-estimator-id-1\" type=\"checkbox\" checked><label for=\"sk-estimator-id-1\" class=\"sk-toggleable__label sk-toggleable__label-arrow\">RandomForestClassifier</label><div class=\"sk-toggleable__content\"><pre>RandomForestClassifier(max_depth=10)</pre></div></div></div></div></div>"
      ],
      "text/plain": [
       "RandomForestClassifier(max_depth=10)"
      ]
     },
     "execution_count": 18,
     "metadata": {},
     "output_type": "execute_result"
    }
   ],
   "source": [
    "random"
   ]
  },
  {
   "cell_type": "code",
   "execution_count": 20,
   "id": "be96639f-a744-42a7-b4cb-557ded2546db",
   "metadata": {},
   "outputs": [
    {
     "data": {
      "text/html": [
       "<style>#sk-container-id-2 {color: black;background-color: white;}#sk-container-id-2 pre{padding: 0;}#sk-container-id-2 div.sk-toggleable {background-color: white;}#sk-container-id-2 label.sk-toggleable__label {cursor: pointer;display: block;width: 100%;margin-bottom: 0;padding: 0.3em;box-sizing: border-box;text-align: center;}#sk-container-id-2 label.sk-toggleable__label-arrow:before {content: \"▸\";float: left;margin-right: 0.25em;color: #696969;}#sk-container-id-2 label.sk-toggleable__label-arrow:hover:before {color: black;}#sk-container-id-2 div.sk-estimator:hover label.sk-toggleable__label-arrow:before {color: black;}#sk-container-id-2 div.sk-toggleable__content {max-height: 0;max-width: 0;overflow: hidden;text-align: left;background-color: #f0f8ff;}#sk-container-id-2 div.sk-toggleable__content pre {margin: 0.2em;color: black;border-radius: 0.25em;background-color: #f0f8ff;}#sk-container-id-2 input.sk-toggleable__control:checked~div.sk-toggleable__content {max-height: 200px;max-width: 100%;overflow: auto;}#sk-container-id-2 input.sk-toggleable__control:checked~label.sk-toggleable__label-arrow:before {content: \"▾\";}#sk-container-id-2 div.sk-estimator input.sk-toggleable__control:checked~label.sk-toggleable__label {background-color: #d4ebff;}#sk-container-id-2 div.sk-label input.sk-toggleable__control:checked~label.sk-toggleable__label {background-color: #d4ebff;}#sk-container-id-2 input.sk-hidden--visually {border: 0;clip: rect(1px 1px 1px 1px);clip: rect(1px, 1px, 1px, 1px);height: 1px;margin: -1px;overflow: hidden;padding: 0;position: absolute;width: 1px;}#sk-container-id-2 div.sk-estimator {font-family: monospace;background-color: #f0f8ff;border: 1px dotted black;border-radius: 0.25em;box-sizing: border-box;margin-bottom: 0.5em;}#sk-container-id-2 div.sk-estimator:hover {background-color: #d4ebff;}#sk-container-id-2 div.sk-parallel-item::after {content: \"\";width: 100%;border-bottom: 1px solid gray;flex-grow: 1;}#sk-container-id-2 div.sk-label:hover label.sk-toggleable__label {background-color: #d4ebff;}#sk-container-id-2 div.sk-serial::before {content: \"\";position: absolute;border-left: 1px solid gray;box-sizing: border-box;top: 0;bottom: 0;left: 50%;z-index: 0;}#sk-container-id-2 div.sk-serial {display: flex;flex-direction: column;align-items: center;background-color: white;padding-right: 0.2em;padding-left: 0.2em;position: relative;}#sk-container-id-2 div.sk-item {position: relative;z-index: 1;}#sk-container-id-2 div.sk-parallel {display: flex;align-items: stretch;justify-content: center;background-color: white;position: relative;}#sk-container-id-2 div.sk-item::before, #sk-container-id-2 div.sk-parallel-item::before {content: \"\";position: absolute;border-left: 1px solid gray;box-sizing: border-box;top: 0;bottom: 0;left: 50%;z-index: -1;}#sk-container-id-2 div.sk-parallel-item {display: flex;flex-direction: column;z-index: 1;position: relative;background-color: white;}#sk-container-id-2 div.sk-parallel-item:first-child::after {align-self: flex-end;width: 50%;}#sk-container-id-2 div.sk-parallel-item:last-child::after {align-self: flex-start;width: 50%;}#sk-container-id-2 div.sk-parallel-item:only-child::after {width: 0;}#sk-container-id-2 div.sk-dashed-wrapped {border: 1px dashed gray;margin: 0 0.4em 0.5em 0.4em;box-sizing: border-box;padding-bottom: 0.4em;background-color: white;}#sk-container-id-2 div.sk-label label {font-family: monospace;font-weight: bold;display: inline-block;line-height: 1.2em;}#sk-container-id-2 div.sk-label-container {text-align: center;}#sk-container-id-2 div.sk-container {/* jupyter's `normalize.less` sets `[hidden] { display: none; }` but bootstrap.min.css set `[hidden] { display: none !important; }` so we also need the `!important` here to be able to override the default hidden behavior on the sphinx rendered scikit-learn.org. See: https://github.com/scikit-learn/scikit-learn/issues/21755 */display: inline-block !important;position: relative;}#sk-container-id-2 div.sk-text-repr-fallback {display: none;}</style><div id=\"sk-container-id-2\" class=\"sk-top-container\"><div class=\"sk-text-repr-fallback\"><pre>RandomForestClassifier(max_depth=10)</pre><b>In a Jupyter environment, please rerun this cell to show the HTML representation or trust the notebook. <br />On GitHub, the HTML representation is unable to render, please try loading this page with nbviewer.org.</b></div><div class=\"sk-container\" hidden><div class=\"sk-item\"><div class=\"sk-estimator sk-toggleable\"><input class=\"sk-toggleable__control sk-hidden--visually\" id=\"sk-estimator-id-2\" type=\"checkbox\" checked><label for=\"sk-estimator-id-2\" class=\"sk-toggleable__label sk-toggleable__label-arrow\">RandomForestClassifier</label><div class=\"sk-toggleable__content\"><pre>RandomForestClassifier(max_depth=10)</pre></div></div></div></div></div>"
      ],
      "text/plain": [
       "RandomForestClassifier(max_depth=10)"
      ]
     },
     "execution_count": 20,
     "metadata": {},
     "output_type": "execute_result"
    }
   ],
   "source": [
    "random.fit(X_train , y_train )\n"
   ]
  },
  {
   "cell_type": "code",
   "execution_count": 28,
   "id": "189e83bc-4fb1-4625-b18a-f48009885628",
   "metadata": {},
   "outputs": [
    {
     "name": "stdout",
     "output_type": "stream",
     "text": [
      "Top 5 important features: ['oldpeak', 'thalach', 'ca', 'thal', 'cp']\n"
     ]
    }
   ],
   "source": [
    "\n",
    "# Get feature importances\n",
    "importances = random.feature_importances_\n",
    "feature_names = X.columns\n",
    "\n",
    "# Get indices of top 5 features\n",
    "indices = np.argsort(importances)[-5:]\n",
    "\n",
    "# Print the names of the top 5 features\n",
    "top_features = [feature_names[i] for i in indices]\n",
    "print(\"Top 5 important features:\", top_features)"
   ]
  },
  {
   "cell_type": "code",
   "execution_count": 26,
   "id": "57f6341b-bd9b-4a0c-aca5-4bc7c7818f4d",
   "metadata": {},
   "outputs": [
    {
     "data": {
      "image/png": "[encoded data removed]",
      "text/plain": [
       "<Figure size 600x400 with 1 Axes>"
      ]
     },
     "metadata": {},
     "output_type": "display_data"
    }
   ],
   "source": [
    "from sklearn.ensemble import RandomForestClassifier\n",
    "import matplotlib.pyplot as plt\n",
    "import numpy as np\n",
    "\n",
    "# Assuming X is your feature matrix and y is your target variable\n",
    "# Fit the RandomForestClassifier\n",
    "rf = RandomForestClassifier()\n",
    "rf.fit(X_train, y_train)\n",
    "\n",
    "# Get feature importances\n",
    "importances = rf.feature_importances_\n",
    "feature_names = X.columns\n",
    "\n",
    "# Get indices of top 5 features\n",
    "indices = np.argsort(importances)[-5:]\n",
    "\n",
    "# Plotting the top 5 features\n",
    "plt.figure(figsize=(6, 4))\n",
    "plt.barh(range(5), importances[indices], align='center')\n",
    "plt.yticks(range(5), [feature_names[i] for i in indices])\n",
    "plt.xlabel('Feature Importance')\n",
    "plt.title('Top 5 Important Features')\n",
    "plt.show()\n"
   ]
  },
  {
   "cell_type": "code",
   "execution_count": 32,
   "id": "8630ccd0-1eaa-4b86-b09d-62946af20c71",
   "metadata": {},
   "outputs": [
    {
     "name": "stdout",
     "output_type": "stream",
     "text": [
      "Fitting 5 folds for each of 36 candidates, totalling 180 fits\n",
      "[CV 1/5] END max_depth=3, min_samples_split=1, n_estimators=100;, score=0.902 total time=   0.2s\n",
      "[CV 2/5] END max_depth=3, min_samples_split=1, n_estimators=100;, score=0.878 total time=   0.2s\n",
      "[CV 3/5] END max_depth=3, min_samples_split=1, n_estimators=100;, score=0.707 total time=   0.2s\n",
      "[CV 4/5] END max_depth=3, min_samples_split=1, n_estimators=100;, score=0.875 total time=   0.2s\n",
      "[CV 5/5] END max_depth=3, min_samples_split=1, n_estimators=100;, score=0.775 total time=   0.2s\n",
      "[CV 1/5] END max_depth=3, min_samples_split=1, n_estimators=200;, score=0.854 total time=   0.4s\n",
      "[CV 2/5] END max_depth=3, min_samples_split=1, n_estimators=200;, score=0.829 total time=   0.4s\n",
      "[CV 3/5] END max_depth=3, min_samples_split=1, n_estimators=200;, score=0.707 total time=   0.4s\n",
      "[CV 4/5] END max_depth=3, min_samples_split=1, n_estimators=200;, score=0.875 total time=   0.4s\n",
      "[CV 5/5] END max_depth=3, min_samples_split=1, n_estimators=200;, score=0.750 total time=   0.4s\n",
      "[CV 1/5] END max_depth=3, min_samples_split=1, n_estimators=300;, score=0.878 total time=   0.6s\n",
      "[CV 2/5] END max_depth=3, min_samples_split=1, n_estimators=300;, score=0.878 total time=   0.6s\n",
      "[CV 3/5] END max_depth=3, min_samples_split=1, n_estimators=300;, score=0.707 total time=   0.6s\n",
      "[CV 4/5] END max_depth=3, min_samples_split=1, n_estimators=300;, score=0.875 total time=   0.6s\n",
      "[CV 5/5] END max_depth=3, min_samples_split=1, n_estimators=300;, score=0.775 total time=   0.6s\n",
      "[CV 1/5] END max_depth=3, min_samples_split=10, n_estimators=100;, score=0.854 total time=   0.2s\n",
      "[CV 2/5] END max_depth=3, min_samples_split=10, n_estimators=100;, score=0.878 total time=   0.2s\n",
      "[CV 3/5] END max_depth=3, min_samples_split=10, n_estimators=100;, score=0.732 total time=   0.2s\n",
      "[CV 4/5] END max_depth=3, min_samples_split=10, n_estimators=100;, score=0.875 total time=   0.2s\n",
      "[CV 5/5] END max_depth=3, min_samples_split=10, n_estimators=100;, score=0.800 total time=   0.2s\n",
      "[CV 1/5] END max_depth=3, min_samples_split=10, n_estimators=200;, score=0.878 total time=   0.4s\n",
      "[CV 2/5] END max_depth=3, min_samples_split=10, n_estimators=200;, score=0.878 total time=   0.4s\n",
      "[CV 3/5] END max_depth=3, min_samples_split=10, n_estimators=200;, score=0.732 total time=   0.4s\n",
      "[CV 4/5] END max_depth=3, min_samples_split=10, n_estimators=200;, score=0.875 total time=   0.4s\n",
      "[CV 5/5] END max_depth=3, min_samples_split=10, n_estimators=200;, score=0.775 total time=   0.4s\n",
      "[CV 1/5] END max_depth=3, min_samples_split=10, n_estimators=300;, score=0.878 total time=   0.6s\n",
      "[CV 2/5] END max_depth=3, min_samples_split=10, n_estimators=300;, score=0.854 total time=   0.6s\n",
      "[CV 3/5] END max_depth=3, min_samples_split=10, n_estimators=300;, score=0.707 total time=   0.6s\n",
      "[CV 4/5] END max_depth=3, min_samples_split=10, n_estimators=300;, score=0.875 total time=   0.6s\n",
      "[CV 5/5] END max_depth=3, min_samples_split=10, n_estimators=300;, score=0.750 total time=   0.8s\n",
      "[CV 1/5] END max_depth=3, min_samples_split=20, n_estimators=100;, score=0.878 total time=   0.2s\n",
      "[CV 2/5] END max_depth=3, min_samples_split=20, n_estimators=100;, score=0.878 total time=   0.2s\n",
      "[CV 3/5] END max_depth=3, min_samples_split=20, n_estimators=100;, score=0.732 total time=   0.2s\n",
      "[CV 4/5] END max_depth=3, min_samples_split=20, n_estimators=100;, score=0.875 total time=   0.2s\n",
      "[CV 5/5] END max_depth=3, min_samples_split=20, n_estimators=100;, score=0.750 total time=   0.2s\n",
      "[CV 1/5] END max_depth=3, min_samples_split=20, n_estimators=200;, score=0.878 total time=   0.4s\n",
      "[CV 2/5] END max_depth=3, min_samples_split=20, n_estimators=200;, score=0.878 total time=   0.4s\n",
      "[CV 3/5] END max_depth=3, min_samples_split=20, n_estimators=200;, score=0.732 total time=   0.4s\n",
      "[CV 4/5] END max_depth=3, min_samples_split=20, n_estimators=200;, score=0.875 total time=   0.4s\n",
      "[CV 5/5] END max_depth=3, min_samples_split=20, n_estimators=200;, score=0.775 total time=   0.4s\n",
      "[CV 1/5] END max_depth=3, min_samples_split=20, n_estimators=300;, score=0.878 total time=   0.6s\n",
      "[CV 2/5] END max_depth=3, min_samples_split=20, n_estimators=300;, score=0.878 total time=   0.6s\n",
      "[CV 3/5] END max_depth=3, min_samples_split=20, n_estimators=300;, score=0.756 total time=   0.6s\n",
      "[CV 4/5] END max_depth=3, min_samples_split=20, n_estimators=300;, score=0.875 total time=   0.6s\n",
      "[CV 5/5] END max_depth=3, min_samples_split=20, n_estimators=300;, score=0.750 total time=   0.6s\n",
      "[CV 1/5] END max_depth=3, min_samples_split=100, n_estimators=100;, score=0.829 total time=   0.2s\n",
      "[CV 2/5] END max_depth=3, min_samples_split=100, n_estimators=100;, score=0.854 total time=   0.2s\n",
      "[CV 3/5] END max_depth=3, min_samples_split=100, n_estimators=100;, score=0.732 total time=   0.2s\n",
      "[CV 4/5] END max_depth=3, min_samples_split=100, n_estimators=100;, score=0.900 total time=   0.2s\n",
      "[CV 5/5] END max_depth=3, min_samples_split=100, n_estimators=100;, score=0.775 total time=   0.2s\n",
      "[CV 1/5] END max_depth=3, min_samples_split=100, n_estimators=200;, score=0.829 total time=   0.4s\n",
      "[CV 2/5] END max_depth=3, min_samples_split=100, n_estimators=200;, score=0.829 total time=   0.4s\n",
      "[CV 3/5] END max_depth=3, min_samples_split=100, n_estimators=200;, score=0.707 total time=   0.4s\n",
      "[CV 4/5] END max_depth=3, min_samples_split=100, n_estimators=200;, score=0.875 total time=   0.4s\n",
      "[CV 5/5] END max_depth=3, min_samples_split=100, n_estimators=200;, score=0.800 total time=   0.4s\n",
      "[CV 1/5] END max_depth=3, min_samples_split=100, n_estimators=300;, score=0.829 total time=   0.5s\n",
      "[CV 2/5] END max_depth=3, min_samples_split=100, n_estimators=300;, score=0.854 total time=   0.5s\n",
      "[CV 3/5] END max_depth=3, min_samples_split=100, n_estimators=300;, score=0.732 total time=   0.5s\n",
      "[CV 4/5] END max_depth=3, min_samples_split=100, n_estimators=300;, score=0.875 total time=   0.5s\n",
      "[CV 5/5] END max_depth=3, min_samples_split=100, n_estimators=300;, score=0.800 total time=   0.5s\n",
      "[CV 1/5] END max_depth=5, min_samples_split=1, n_estimators=100;, score=0.854 total time=   0.2s\n",
      "[CV 2/5] END max_depth=5, min_samples_split=1, n_estimators=100;, score=0.878 total time=   0.2s\n",
      "[CV 3/5] END max_depth=5, min_samples_split=1, n_estimators=100;, score=0.732 total time=   0.2s\n",
      "[CV 4/5] END max_depth=5, min_samples_split=1, n_estimators=100;, score=0.875 total time=   0.2s\n",
      "[CV 5/5] END max_depth=5, min_samples_split=1, n_estimators=100;, score=0.750 total time=   0.2s\n",
      "[CV 1/5] END max_depth=5, min_samples_split=1, n_estimators=200;, score=0.878 total time=   0.4s\n",
      "[CV 2/5] END max_depth=5, min_samples_split=1, n_estimators=200;, score=0.878 total time=   0.4s\n",
      "[CV 3/5] END max_depth=5, min_samples_split=1, n_estimators=200;, score=0.780 total time=   0.4s\n",
      "[CV 4/5] END max_depth=5, min_samples_split=1, n_estimators=200;, score=0.825 total time=   0.4s\n",
      "[CV 5/5] END max_depth=5, min_samples_split=1, n_estimators=200;, score=0.750 total time=   0.4s\n",
      "[CV 1/5] END max_depth=5, min_samples_split=1, n_estimators=300;, score=0.829 total time=   0.6s\n",
      "[CV 2/5] END max_depth=5, min_samples_split=1, n_estimators=300;, score=0.854 total time=   0.6s\n",
      "[CV 3/5] END max_depth=5, min_samples_split=1, n_estimators=300;, score=0.756 total time=   0.6s\n",
      "[CV 4/5] END max_depth=5, min_samples_split=1, n_estimators=300;, score=0.875 total time=   0.6s\n",
      "[CV 5/5] END max_depth=5, min_samples_split=1, n_estimators=300;, score=0.775 total time=   0.6s\n",
      "[CV 1/5] END max_depth=5, min_samples_split=10, n_estimators=100;, score=0.878 total time=   0.2s\n",
      "[CV 2/5] END max_depth=5, min_samples_split=10, n_estimators=100;, score=0.878 total time=   0.2s\n",
      "[CV 3/5] END max_depth=5, min_samples_split=10, n_estimators=100;, score=0.732 total time=   0.2s\n",
      "[CV 4/5] END max_depth=5, min_samples_split=10, n_estimators=100;, score=0.850 total time=   0.2s\n",
      "[CV 5/5] END max_depth=5, min_samples_split=10, n_estimators=100;, score=0.775 total time=   0.2s\n",
      "[CV 1/5] END max_depth=5, min_samples_split=10, n_estimators=200;, score=0.854 total time=   0.4s\n",
      "[CV 2/5] END max_depth=5, min_samples_split=10, n_estimators=200;, score=0.878 total time=   0.4s\n",
      "[CV 3/5] END max_depth=5, min_samples_split=10, n_estimators=200;, score=0.707 total time=   0.4s\n",
      "[CV 4/5] END max_depth=5, min_samples_split=10, n_estimators=200;, score=0.850 total time=   0.4s\n",
      "[CV 5/5] END max_depth=5, min_samples_split=10, n_estimators=200;, score=0.750 total time=   0.4s\n",
      "[CV 1/5] END max_depth=5, min_samples_split=10, n_estimators=300;, score=0.854 total time=   0.6s\n",
      "[CV 2/5] END max_depth=5, min_samples_split=10, n_estimators=300;, score=0.878 total time=   0.6s\n",
      "[CV 3/5] END max_depth=5, min_samples_split=10, n_estimators=300;, score=0.732 total time=   0.6s\n",
      "[CV 4/5] END max_depth=5, min_samples_split=10, n_estimators=300;, score=0.875 total time=   0.6s\n",
      "[CV 5/5] END max_depth=5, min_samples_split=10, n_estimators=300;, score=0.725 total time=   0.6s\n",
      "[CV 1/5] END max_depth=5, min_samples_split=20, n_estimators=100;, score=0.854 total time=   0.2s\n",
      "[CV 2/5] END max_depth=5, min_samples_split=20, n_estimators=100;, score=0.854 total time=   0.2s\n",
      "[CV 3/5] END max_depth=5, min_samples_split=20, n_estimators=100;, score=0.707 total time=   0.2s\n",
      "[CV 4/5] END max_depth=5, min_samples_split=20, n_estimators=100;, score=0.875 total time=   0.2s\n",
      "[CV 5/5] END max_depth=5, min_samples_split=20, n_estimators=100;, score=0.775 total time=   0.2s\n",
      "[CV 1/5] END max_depth=5, min_samples_split=20, n_estimators=200;, score=0.854 total time=   0.4s\n",
      "[CV 2/5] END max_depth=5, min_samples_split=20, n_estimators=200;, score=0.854 total time=   0.4s\n",
      "[CV 3/5] END max_depth=5, min_samples_split=20, n_estimators=200;, score=0.756 total time=   0.4s\n",
      "[CV 4/5] END max_depth=5, min_samples_split=20, n_estimators=200;, score=0.875 total time=   0.4s\n",
      "[CV 5/5] END max_depth=5, min_samples_split=20, n_estimators=200;, score=0.750 total time=   0.4s\n",
      "[CV 1/5] END max_depth=5, min_samples_split=20, n_estimators=300;, score=0.854 total time=   0.6s\n",
      "[CV 2/5] END max_depth=5, min_samples_split=20, n_estimators=300;, score=0.878 total time=   0.6s\n",
      "[CV 3/5] END max_depth=5, min_samples_split=20, n_estimators=300;, score=0.732 total time=   0.6s\n",
      "[CV 4/5] END max_depth=5, min_samples_split=20, n_estimators=300;, score=0.875 total time=   0.6s\n",
      "[CV 5/5] END max_depth=5, min_samples_split=20, n_estimators=300;, score=0.775 total time=   0.6s\n",
      "[CV 1/5] END max_depth=5, min_samples_split=100, n_estimators=100;, score=0.805 total time=   0.2s\n",
      "[CV 2/5] END max_depth=5, min_samples_split=100, n_estimators=100;, score=0.878 total time=   0.2s\n",
      "[CV 3/5] END max_depth=5, min_samples_split=100, n_estimators=100;, score=0.707 total time=   0.2s\n",
      "[CV 4/5] END max_depth=5, min_samples_split=100, n_estimators=100;, score=0.875 total time=   0.2s\n",
      "[CV 5/5] END max_depth=5, min_samples_split=100, n_estimators=100;, score=0.800 total time=   0.2s\n",
      "[CV 1/5] END max_depth=5, min_samples_split=100, n_estimators=200;, score=0.854 total time=   0.4s\n",
      "[CV 2/5] END max_depth=5, min_samples_split=100, n_estimators=200;, score=0.829 total time=   0.4s\n",
      "[CV 3/5] END max_depth=5, min_samples_split=100, n_estimators=200;, score=0.659 total time=   0.4s\n",
      "[CV 4/5] END max_depth=5, min_samples_split=100, n_estimators=200;, score=0.875 total time=   0.4s\n",
      "[CV 5/5] END max_depth=5, min_samples_split=100, n_estimators=200;, score=0.775 total time=   0.4s\n",
      "[CV 1/5] END max_depth=5, min_samples_split=100, n_estimators=300;, score=0.829 total time=   0.6s\n",
      "[CV 2/5] END max_depth=5, min_samples_split=100, n_estimators=300;, score=0.854 total time=   0.5s\n",
      "[CV 3/5] END max_depth=5, min_samples_split=100, n_estimators=300;, score=0.707 total time=   0.6s\n",
      "[CV 4/5] END max_depth=5, min_samples_split=100, n_estimators=300;, score=0.875 total time=   0.5s\n",
      "[CV 5/5] END max_depth=5, min_samples_split=100, n_estimators=300;, score=0.825 total time=   0.5s\n",
      "[CV 1/5] END max_depth=10, min_samples_split=1, n_estimators=100;, score=0.829 total time=   0.2s\n",
      "[CV 2/5] END max_depth=10, min_samples_split=1, n_estimators=100;, score=0.854 total time=   0.2s\n",
      "[CV 3/5] END max_depth=10, min_samples_split=1, n_estimators=100;, score=0.732 total time=   0.2s\n",
      "[CV 4/5] END max_depth=10, min_samples_split=1, n_estimators=100;, score=0.825 total time=   0.2s\n",
      "[CV 5/5] END max_depth=10, min_samples_split=1, n_estimators=100;, score=0.750 total time=   0.2s\n",
      "[CV 1/5] END max_depth=10, min_samples_split=1, n_estimators=200;, score=0.854 total time=   0.4s\n",
      "[CV 2/5] END max_depth=10, min_samples_split=1, n_estimators=200;, score=0.878 total time=   0.4s\n",
      "[CV 3/5] END max_depth=10, min_samples_split=1, n_estimators=200;, score=0.780 total time=   0.4s\n",
      "[CV 4/5] END max_depth=10, min_samples_split=1, n_estimators=200;, score=0.850 total time=   0.4s\n",
      "[CV 5/5] END max_depth=10, min_samples_split=1, n_estimators=200;, score=0.750 total time=   0.4s\n",
      "[CV 1/5] END max_depth=10, min_samples_split=1, n_estimators=300;, score=0.854 total time=   0.6s\n",
      "[CV 2/5] END max_depth=10, min_samples_split=1, n_estimators=300;, score=0.854 total time=   0.6s\n",
      "[CV 3/5] END max_depth=10, min_samples_split=1, n_estimators=300;, score=0.756 total time=   0.6s\n",
      "[CV 4/5] END max_depth=10, min_samples_split=1, n_estimators=300;, score=0.825 total time=   0.6s\n",
      "[CV 5/5] END max_depth=10, min_samples_split=1, n_estimators=300;, score=0.750 total time=   0.6s\n",
      "[CV 1/5] END max_depth=10, min_samples_split=10, n_estimators=100;, score=0.878 total time=   0.2s\n",
      "[CV 2/5] END max_depth=10, min_samples_split=10, n_estimators=100;, score=0.878 total time=   0.2s\n",
      "[CV 3/5] END max_depth=10, min_samples_split=10, n_estimators=100;, score=0.732 total time=   0.2s\n",
      "[CV 4/5] END max_depth=10, min_samples_split=10, n_estimators=100;, score=0.875 total time=   0.2s\n",
      "[CV 5/5] END max_depth=10, min_samples_split=10, n_estimators=100;, score=0.700 total time=   0.2s\n",
      "[CV 1/5] END max_depth=10, min_samples_split=10, n_estimators=200;, score=0.854 total time=   0.4s\n",
      "[CV 2/5] END max_depth=10, min_samples_split=10, n_estimators=200;, score=0.878 total time=   0.4s\n",
      "[CV 3/5] END max_depth=10, min_samples_split=10, n_estimators=200;, score=0.707 total time=   0.4s\n",
      "[CV 4/5] END max_depth=10, min_samples_split=10, n_estimators=200;, score=0.875 total time=   0.4s\n",
      "[CV 5/5] END max_depth=10, min_samples_split=10, n_estimators=200;, score=0.750 total time=   0.4s\n",
      "[CV 1/5] END max_depth=10, min_samples_split=10, n_estimators=300;, score=0.805 total time=   0.6s\n",
      "[CV 2/5] END max_depth=10, min_samples_split=10, n_estimators=300;, score=0.829 total time=   0.6s\n",
      "[CV 3/5] END max_depth=10, min_samples_split=10, n_estimators=300;, score=0.707 total time=   0.6s\n",
      "[CV 4/5] END max_depth=10, min_samples_split=10, n_estimators=300;, score=0.850 total time=   0.6s\n",
      "[CV 5/5] END max_depth=10, min_samples_split=10, n_estimators=300;, score=0.750 total time=   0.6s\n",
      "[CV 1/5] END max_depth=10, min_samples_split=20, n_estimators=100;, score=0.878 total time=   0.2s\n",
      "[CV 2/5] END max_depth=10, min_samples_split=20, n_estimators=100;, score=0.878 total time=   0.2s\n",
      "[CV 3/5] END max_depth=10, min_samples_split=20, n_estimators=100;, score=0.732 total time=   0.2s\n",
      "[CV 4/5] END max_depth=10, min_samples_split=20, n_estimators=100;, score=0.875 total time=   0.2s\n",
      "[CV 5/5] END max_depth=10, min_samples_split=20, n_estimators=100;, score=0.800 total time=   0.2s\n",
      "[CV 1/5] END max_depth=10, min_samples_split=20, n_estimators=200;, score=0.854 total time=   0.4s\n",
      "[CV 2/5] END max_depth=10, min_samples_split=20, n_estimators=200;, score=0.878 total time=   0.4s\n",
      "[CV 3/5] END max_depth=10, min_samples_split=20, n_estimators=200;, score=0.732 total time=   0.4s\n",
      "[CV 4/5] END max_depth=10, min_samples_split=20, n_estimators=200;, score=0.850 total time=   0.4s\n",
      "[CV 5/5] END max_depth=10, min_samples_split=20, n_estimators=200;, score=0.750 total time=   0.4s\n",
      "[CV 1/5] END max_depth=10, min_samples_split=20, n_estimators=300;, score=0.854 total time=   0.6s\n",
      "[CV 2/5] END max_depth=10, min_samples_split=20, n_estimators=300;, score=0.854 total time=   0.6s\n",
      "[CV 3/5] END max_depth=10, min_samples_split=20, n_estimators=300;, score=0.707 total time=   0.6s\n",
      "[CV 4/5] END max_depth=10, min_samples_split=20, n_estimators=300;, score=0.875 total time=   0.6s\n",
      "[CV 5/5] END max_depth=10, min_samples_split=20, n_estimators=300;, score=0.750 total time=   0.6s\n",
      "[CV 1/5] END max_depth=10, min_samples_split=100, n_estimators=100;, score=0.854 total time=   0.2s\n",
      "[CV 2/5] END max_depth=10, min_samples_split=100, n_estimators=100;, score=0.878 total time=   0.2s\n",
      "[CV 3/5] END max_depth=10, min_samples_split=100, n_estimators=100;, score=0.707 total time=   0.2s\n",
      "[CV 4/5] END max_depth=10, min_samples_split=100, n_estimators=100;, score=0.875 total time=   0.2s\n",
      "[CV 5/5] END max_depth=10, min_samples_split=100, n_estimators=100;, score=0.825 total time=   0.2s\n",
      "[CV 1/5] END max_depth=10, min_samples_split=100, n_estimators=200;, score=0.829 total time=   0.4s\n",
      "[CV 2/5] END max_depth=10, min_samples_split=100, n_estimators=200;, score=0.829 total time=   0.4s\n",
      "[CV 3/5] END max_depth=10, min_samples_split=100, n_estimators=200;, score=0.707 total time=   0.4s\n",
      "[CV 4/5] END max_depth=10, min_samples_split=100, n_estimators=200;, score=0.875 total time=   0.4s\n",
      "[CV 5/5] END max_depth=10, min_samples_split=100, n_estimators=200;, score=0.825 total time=   0.4s\n",
      "[CV 1/5] END max_depth=10, min_samples_split=100, n_estimators=300;, score=0.854 total time=   0.5s\n",
      "[CV 2/5] END max_depth=10, min_samples_split=100, n_estimators=300;, score=0.854 total time=   0.5s\n",
      "[CV 3/5] END max_depth=10, min_samples_split=100, n_estimators=300;, score=0.707 total time=   0.6s\n",
      "[CV 4/5] END max_depth=10, min_samples_split=100, n_estimators=300;, score=0.900 total time=   0.5s\n",
      "[CV 5/5] END max_depth=10, min_samples_split=100, n_estimators=300;, score=0.825 total time=   0.5s\n"
     ]
    },
    {
     "data": {
      "text/plain": [
       "{'max_depth': 10, 'min_samples_split': 20, 'n_estimators': 100}"
      ]
     },
     "execution_count": 32,
     "metadata": {},
     "output_type": "execute_result"
    }
   ],
   "source": [
    "from sklearn.model_selection import GridSearchCV\n",
    "\n",
    "parameters ={\n",
    "    'n_estimators':[100 , 200  , 300],\n",
    "    'max_depth':[3,5,10],\n",
    "    'min_samples_split':[1,10 , 20 , 100]\n",
    "}\n",
    "\n",
    "gscv = GridSearchCV(estimator=random , param_grid=parameters , cv=5, verbose=3)\n",
    "\n",
    "gscv.fit(X_train , y_train) \n",
    "gscv.best_params_"
   ]
  },
  {
   "cell_type": "markdown",
   "id": "6a35062e-5b99-4740-ae12-07e8f4a9af66",
   "metadata": {},
   "source": [
    "# for randomized search cv "
   ]
  },
  {
   "cell_type": "code",
   "execution_count": 46,
   "id": "9d447a77-6f94-44c2-bbff-ce55301ee5d2",
   "metadata": {},
   "outputs": [],
   "source": [
    "par ={\n",
    "    'n_estimators':[10,20 ,100],\n",
    "    'max_depth':[1,10,100],\n",
    "    'min_samples_split':[10,20,50],\n",
    "    'min_samples_leaf':[1,10, 20 , 50]\n",
    "}"
   ]
  },
  {
   "cell_type": "code",
   "execution_count": 47,
   "id": "6b0865ef-2fa8-4f9c-85f5-9f73fe5bccaf",
   "metadata": {},
   "outputs": [
    {
     "name": "stdout",
     "output_type": "stream",
     "text": [
      "Fitting 5 folds for each of 10 candidates, totalling 50 fits\n",
      "[CV 1/5] END max_depth=100, min_samples_leaf=50, min_samples_split=10, n_estimators=100;, score=0.707 total time=   0.2s\n",
      "[CV 2/5] END max_depth=100, min_samples_leaf=50, min_samples_split=10, n_estimators=100;, score=0.829 total time=   0.2s\n",
      "[CV 3/5] END max_depth=100, min_samples_leaf=50, min_samples_split=10, n_estimators=100;, score=0.585 total time=   0.2s\n",
      "[CV 4/5] END max_depth=100, min_samples_leaf=50, min_samples_split=10, n_estimators=100;, score=0.675 total time=   0.2s\n",
      "[CV 5/5] END max_depth=100, min_samples_leaf=50, min_samples_split=10, n_estimators=100;, score=0.725 total time=   0.2s\n",
      "[CV 1/5] END max_depth=10, min_samples_leaf=50, min_samples_split=20, n_estimators=10;, score=0.707 total time=   0.0s\n",
      "[CV 2/5] END max_depth=10, min_samples_leaf=50, min_samples_split=20, n_estimators=10;, score=0.878 total time=   0.0s\n",
      "[CV 3/5] END max_depth=10, min_samples_leaf=50, min_samples_split=20, n_estimators=10;, score=0.585 total time=   0.0s\n",
      "[CV 4/5] END max_depth=10, min_samples_leaf=50, min_samples_split=20, n_estimators=10;, score=0.625 total time=   0.0s\n",
      "[CV 5/5] END max_depth=10, min_samples_leaf=50, min_samples_split=20, n_estimators=10;, score=0.700 total time=   0.0s\n",
      "[CV 1/5] END max_depth=10, min_samples_leaf=50, min_samples_split=20, n_estimators=100;, score=0.707 total time=   0.2s\n",
      "[CV 2/5] END max_depth=10, min_samples_leaf=50, min_samples_split=20, n_estimators=100;, score=0.829 total time=   0.2s\n",
      "[CV 3/5] END max_depth=10, min_samples_leaf=50, min_samples_split=20, n_estimators=100;, score=0.561 total time=   0.2s\n",
      "[CV 4/5] END max_depth=10, min_samples_leaf=50, min_samples_split=20, n_estimators=100;, score=0.750 total time=   0.2s\n",
      "[CV 5/5] END max_depth=10, min_samples_leaf=50, min_samples_split=20, n_estimators=100;, score=0.750 total time=   0.2s\n",
      "[CV 1/5] END max_depth=10, min_samples_leaf=1, min_samples_split=10, n_estimators=10;, score=0.829 total time=   0.0s\n",
      "[CV 2/5] END max_depth=10, min_samples_leaf=1, min_samples_split=10, n_estimators=10;, score=0.805 total time=   0.0s\n",
      "[CV 3/5] END max_depth=10, min_samples_leaf=1, min_samples_split=10, n_estimators=10;, score=0.732 total time=   0.0s\n",
      "[CV 4/5] END max_depth=10, min_samples_leaf=1, min_samples_split=10, n_estimators=10;, score=0.825 total time=   0.0s\n",
      "[CV 5/5] END max_depth=10, min_samples_leaf=1, min_samples_split=10, n_estimators=10;, score=0.775 total time=   0.0s\n",
      "[CV 1/5] END max_depth=100, min_samples_leaf=50, min_samples_split=20, n_estimators=20;, score=0.683 total time=   0.0s\n",
      "[CV 2/5] END max_depth=100, min_samples_leaf=50, min_samples_split=20, n_estimators=20;, score=0.756 total time=   0.0s\n",
      "[CV 3/5] END max_depth=100, min_samples_leaf=50, min_samples_split=20, n_estimators=20;, score=0.561 total time=   0.0s\n",
      "[CV 4/5] END max_depth=100, min_samples_leaf=50, min_samples_split=20, n_estimators=20;, score=0.650 total time=   0.0s\n",
      "[CV 5/5] END max_depth=100, min_samples_leaf=50, min_samples_split=20, n_estimators=20;, score=0.675 total time=   0.0s\n",
      "[CV 1/5] END max_depth=100, min_samples_leaf=50, min_samples_split=10, n_estimators=20;, score=0.634 total time=   0.0s\n",
      "[CV 2/5] END max_depth=100, min_samples_leaf=50, min_samples_split=10, n_estimators=20;, score=0.878 total time=   0.0s\n",
      "[CV 3/5] END max_depth=100, min_samples_leaf=50, min_samples_split=10, n_estimators=20;, score=0.561 total time=   0.0s\n",
      "[CV 4/5] END max_depth=100, min_samples_leaf=50, min_samples_split=10, n_estimators=20;, score=0.675 total time=   0.0s\n",
      "[CV 5/5] END max_depth=100, min_samples_leaf=50, min_samples_split=10, n_estimators=20;, score=0.700 total time=   0.0s\n",
      "[CV 1/5] END max_depth=100, min_samples_leaf=20, min_samples_split=10, n_estimators=10;, score=0.805 total time=   0.0s\n",
      "[CV 2/5] END max_depth=100, min_samples_leaf=20, min_samples_split=10, n_estimators=10;, score=0.829 total time=   0.0s\n",
      "[CV 3/5] END max_depth=100, min_samples_leaf=20, min_samples_split=10, n_estimators=10;, score=0.780 total time=   0.0s\n",
      "[CV 4/5] END max_depth=100, min_samples_leaf=20, min_samples_split=10, n_estimators=10;, score=0.800 total time=   0.0s\n",
      "[CV 5/5] END max_depth=100, min_samples_leaf=20, min_samples_split=10, n_estimators=10;, score=0.800 total time=   0.0s\n",
      "[CV 1/5] END max_depth=1, min_samples_leaf=1, min_samples_split=20, n_estimators=20;, score=0.756 total time=   0.0s\n",
      "[CV 2/5] END max_depth=1, min_samples_leaf=1, min_samples_split=20, n_estimators=20;, score=0.854 total time=   0.0s\n",
      "[CV 3/5] END max_depth=1, min_samples_leaf=1, min_samples_split=20, n_estimators=20;, score=0.756 total time=   0.0s\n",
      "[CV 4/5] END max_depth=1, min_samples_leaf=1, min_samples_split=20, n_estimators=20;, score=0.900 total time=   0.0s\n",
      "[CV 5/5] END max_depth=1, min_samples_leaf=1, min_samples_split=20, n_estimators=20;, score=0.825 total time=   0.0s\n",
      "[CV 1/5] END max_depth=10, min_samples_leaf=50, min_samples_split=50, n_estimators=20;, score=0.683 total time=   0.0s\n",
      "[CV 2/5] END max_depth=10, min_samples_leaf=50, min_samples_split=50, n_estimators=20;, score=0.805 total time=   0.0s\n",
      "[CV 3/5] END max_depth=10, min_samples_leaf=50, min_samples_split=50, n_estimators=20;, score=0.561 total time=   0.0s\n",
      "[CV 4/5] END max_depth=10, min_samples_leaf=50, min_samples_split=50, n_estimators=20;, score=0.675 total time=   0.0s\n",
      "[CV 5/5] END max_depth=10, min_samples_leaf=50, min_samples_split=50, n_estimators=20;, score=0.675 total time=   0.0s\n",
      "[CV 1/5] END max_depth=10, min_samples_leaf=50, min_samples_split=10, n_estimators=20;, score=0.732 total time=   0.0s\n",
      "[CV 2/5] END max_depth=10, min_samples_leaf=50, min_samples_split=10, n_estimators=20;, score=0.732 total time=   0.0s\n",
      "[CV 3/5] END max_depth=10, min_samples_leaf=50, min_samples_split=10, n_estimators=20;, score=0.537 total time=   0.0s\n",
      "[CV 4/5] END max_depth=10, min_samples_leaf=50, min_samples_split=10, n_estimators=20;, score=0.750 total time=   0.0s\n",
      "[CV 5/5] END max_depth=10, min_samples_leaf=50, min_samples_split=10, n_estimators=20;, score=0.775 total time=   0.0s\n"
     ]
    },
    {
     "data": {
      "text/plain": [
       "{'n_estimators': 20,\n",
       " 'min_samples_split': 20,\n",
       " 'min_samples_leaf': 1,\n",
       " 'max_depth': 1}"
      ]
     },
     "execution_count": 47,
     "metadata": {},
     "output_type": "execute_result"
    }
   ],
   "source": [
    "from sklearn.model_selection import RandomizedSearchCV\n",
    "\n",
    "randomcv = RandomizedSearchCV(estimator=random ,param_distributions= par , verbose=3 , cv =5  )\n",
    "\n",
    "randomcv.fit(X_train, y_train)\n",
    "randomcv.best_params_"
   ]
  },
  {
   "cell_type": "code",
   "execution_count": null,
   "id": "8f42c262-dd79-4d6d-8ad3-2bb6c38f9630",
   "metadata": {},
   "outputs": [],
   "source": [
    "Q8. Interpret the model by analysing the decision boundaries of the random forest classifier. Plot the\n",
    "decision boundaries on a scatter plot of two of the most important features. Discuss the insights and\n",
    "limitations of the model for predicting heart disease risk."
   ]
  },
  {
   "cell_type": "code",
   "execution_count": 48,
   "id": "55e74bfb-c3af-4884-901a-0e3bddd99789",
   "metadata": {},
   "outputs": [
    {
     "name": "stdout",
     "output_type": "stream",
     "text": [
      "Top 5 important features: ['thal', 'cp']\n"
     ]
    }
   ],
   "source": [
    "importance = random.feature_importances_\n",
    "fearutes_names = X.columns\n",
    "\n",
    "indices = np.argsort(importances)[-2:]\n",
    "\n",
    "# Print the names of the top 5 features\n",
    "top_features = [feature_names[i] for i in indices]\n",
    "print(\"Top 5 important features:\", top_features)"
   ]
  },
  {
   "cell_type": "code",
   "execution_count": 53,
   "id": "3c983667-af57-4063-b884-f2012f6d8898",
   "metadata": {},
   "outputs": [
    {
     "data": {
      "text/plain": [
       "<matplotlib.collections.PathCollection at 0x717979d6cb20>"
      ]
     },
     "execution_count": 53,
     "metadata": {},
     "output_type": "execute_result"
    },
    {
     "data": {
      "image/png": "[encoded data removed]",
      "text/plain": [
       "<Figure size 640x480 with 1 Axes>"
      ]
     },
     "metadata": {},
     "output_type": "display_data"
    }
   ],
   "source": [
    "import  matplotlib.pyplot as plt \n",
    "plt.scatter(x = df['thal' ], y = df['cp'])"
   ]
  },
  {
   "cell_type": "code",
   "execution_count": null,
   "id": "f979806c-d6ff-43de-8e0b-f8ec8006a4b9",
   "metadata": {},
   "outputs": [],
   "source": []
  },
  {
   "cell_type": "code",
   "execution_count": null,
   "id": "fc38d3bc-f586-4be1-b59c-327b6bc94a04",
   "metadata": {},
   "outputs": [],
   "source": []
  }
 ],
 "metadata": {
  "kernelspec": {
   "display_name": "Python 3 (ipykernel)",
   "language": "python",
   "name": "python3"
  },
  "language_info": {
   "codemirror_mode": {
    "name": "ipython",
    "version": 3
   },
   "file_extension": ".py",
   "mimetype": "text/x-python",
   "name": "python",
   "nbconvert_exporter": "python",
   "pygments_lexer": "ipython3",
   "version": "3.10.8"
  }
 },
 "nbformat": 4,
 "nbformat_minor": 5
}
