{
 "cells": [
  {
   "cell_type": "code",
   "execution_count": null,
   "id": "2df10502-80e0-456a-bde0-579fc74d0e0b",
   "metadata": {},
   "outputs": [],
   "source": [
    "Q1. How does bagging reduce overfitting in decision trees?\n",
    "\n",
    "Ans:\n",
    "    Bagging reduces overfitting in decision trees by creating multiple versions of the\n",
    "    tree using different subsets of the data. Each tree is trained on a different sample,\n",
    "    which helps to average out the errors and reduce the risk of the model fitting too closely to any one subset"
   ]
  },
  {
   "cell_type": "code",
   "execution_count": null,
   "id": "af510130-a21f-4e55-ad0f-df997e95b917",
   "metadata": {},
   "outputs": [],
   "source": [
    "Q2. What are the advantages and disadvantages of using different types of base learners in bagging?\n",
    "\n",
    "Ans:.\n",
    "   \n",
    "Advantages:\n",
    "\n",
    "1.Diverse Predictions: Different base learners can capture various patterns in the data, \n",
    "                    leading to better overall performance.\n",
    "2.Improved Robustness: Combining diverse models can enhance the robustness and generalization of the final ensemble.\n",
    "\n",
    "Disadvantages:\n",
    "\n",
    "1.Complexity: Managing and tuning multiple types of base learners can be complex and time-consuming.\n",
    "2.Increased Computation: Using different base learners might require more computational \n",
    "                        resources and time for training and prediction."
   ]
  },
  {
   "cell_type": "code",
   "execution_count": null,
   "id": "0e53ec92-d40f-4bbb-9cb6-c9c80f7df531",
   "metadata": {},
   "outputs": [],
   "source": [
    "Q3. How does the choice of base learner affect the bias-variance tradeoff in bagging?\n",
    "\n",
    "Ans: \n",
    "    he choice of base learner in bagging affects the bias-variance tradeoff by influencing the models \n",
    "    complexity. Using a simple base learner, like a decision stump, results in higher bias but \n",
    "    lower variance, while a more complex base learner, like a deep decision tree, \n",
    "    reduces bias but increases variance. \n",
    "    Bagging helps by averaging multiple models, which reduces variance without significantly\n",
    "    increasing bias, leading to a better overall model."
   ]
  },
  {
   "cell_type": "code",
   "execution_count": null,
   "id": "e9f3938e-5e12-45a2-b627-15eab8e31f45",
   "metadata": {},
   "outputs": [],
   "source": [
    "Q4. Can bagging be used for both classification and regression tasks? How does it differ in each case?\n",
    "\n",
    "Ans:\n",
    "    Yes, bagging can be used for both classification and regression tasks."
   ]
  },
  {
   "cell_type": "code",
   "execution_count": null,
   "id": "4b71da7f-2290-4b5f-b0d9-9065dace6c81",
   "metadata": {},
   "outputs": [],
   "source": [
    "Q5. What is the role of ensemble size in bagging? How many models should be included in the ensemble?\n",
    "\n",
    "Ans:\n",
    "    he ensemble size in bagging affects the stability and accuracy of the model.\n",
    "    A larger ensemble generally reduces variance and improves performance by averaging out the\n",
    "    errors of individual models. However, increasing the number of models also adds computational cost.\n",
    "\n",
    "    Typically, an ensemble size of 20 to 100 models is common,"
   ]
  }
 ],
 "metadata": {
  "kernelspec": {
   "display_name": "Python 3 (ipykernel)",
   "language": "python",
   "name": "python3"
  },
  "language_info": {
   "codemirror_mode": {
    "name": "ipython",
    "version": 3
   },
   "file_extension": ".py",
   "mimetype": "text/x-python",
   "name": "python",
   "nbconvert_exporter": "python",
   "pygments_lexer": "ipython3",
   "version": "3.10.8"
  }
 },
 "nbformat": 4,
 "nbformat_minor": 5
}
