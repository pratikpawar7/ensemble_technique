{
 "cells": [
  {
   "cell_type": "code",
   "execution_count": null,
   "id": "16ab0fe2-5aac-4d26-a43a-65591fb4ff77",
   "metadata": {},
   "outputs": [],
   "source": [
    
    "sample of 50 trees and obtain a mean height of 15 meters and a standard deviation of 2 meters. Use\n",
    "bootstrap to estimate the 95% confidence interval for the population mean height."
   ]
  },
  {
   "cell_type": "code",
   "execution_count": null,
   "id": "c26875f5-0349-489e-afef-6ed20893d0f1",
   "metadata": {},
   "outputs": [],
   "source": [
    "Q1. What is an ensemble technique in machine learning?\n",
    "\n",
    "Ans:\n",
    "    \n",
    "    Ensemble techniques in machine learning combine the predictions of multiple models to \n",
    "    improve overall performance. \n",
    "    The idea is that by aggregating different models, the ensemble can correct individual model \n",
    "    errors, leading to better accuracy and generalization  "
   ]
  },
  {
   "cell_type": "code",
   "execution_count": null,
   "id": "c54f1adc-ec37-420e-91d7-2cb543508bfb",
   "metadata": {},
   "outputs": [],
   "source": [
    "Q2. Why are ensemble techniques used in machine learning?\n",
    "\n",
    "Ans:\n",
    "    Ensemble techniques are used in machine learning to improve model performance\n",
    "    and robustness by combining the strengths of multiple models."
   ]
  },
  {
   "cell_type": "code",
   "execution_count": null,
   "id": "54ff2e6a-a8a5-47c0-abc8-04788220a178",
   "metadata": {},
   "outputs": [],
   "source": [
    "Q3. What is bagging?\n",
    "\n",
    "Ans:\n",
    "    Bagging,  is an ensemble technique where multiple models are trained on different subsets of the data, \n",
    "    created through random sampling with replacement.\n",
    "    The final prediction is made by averaging (for regression) or majority voting (for classification) \n",
    "    across these models. \n",
    "    Bagging reduces overfitting and improves the model's accuracy and stability.\n",
    "    "
   ]
  },
  {
   "cell_type": "code",
   "execution_count": null,
   "id": "66c2de9e-c43b-4f5a-ac2e-1a703b62522b",
   "metadata": {},
   "outputs": [],
   "source": [
    "Q4. What is boosting?\n",
    "\n",
    "Ans:\n",
    "    \n",
    "    Boosting is an ensemble technique where models are trained sequentially,\n",
    "    with each new model aiming to correct the errors made by the previous ones.\n",
    "    It starts with a weak model, and subsequent models are added, each focusing more on the hard-to-predict cases. \n",
    "    The final prediction is a weighted combination of all models outputs, resulting in \n",
    "    improved accuracy and reduced bias. \n",
    "    Boosting is powerful for turning weak learners into strong predictors."
   ]
  },
  {
   "cell_type": "code",
   "execution_count": null,
   "id": "5bc90f84-b1c0-4876-8cda-3383d12250b6",
   "metadata": {},
   "outputs": [],
   "source": [
    "Q5. What are the benefits of using ensemble techniques?\n",
    "\n",
    "Ans:\n",
    "    \n",
    "Improved Accuracy: By combining multiple models, ensembles generally provide more accurate predictions \n",
    "                    than individual models.\n",
    "\n",
    "Reduced Overfitting: Techniques like Bagging help to reduce overfitting, leading to better \n",
    "                        generalization on unseen data.\n",
    "\n",
    "Increased Stability: Ensemble methods reduce the impact of noise and variance, making predictions more robust.\n",
    "\n",
    "Versatility: They can handle complex datasets by leveraging the strengths of different models, \n",
    "            improving overall performance.\n"
   ]
  },
  {
   "cell_type": "code",
   "execution_count": null,
   "id": "9d85bec6-4379-4155-9ad2-43d9d2992bc3",
   "metadata": {},
   "outputs": [],
   "source": [
    "Q6. Are ensemble techniques always better than individual models?\n",
    "\n",
    "Ans:\n",
    "    Ensemble techniques often improve performance, but they arenot always better than individual models. \n",
    "    If the base models are already strong and the dataset is simple, ensembles may offer little benefit.\n",
    "    They also increase computational complexity and can be harder to interpret. "
   ]
  },
  {
   "cell_type": "code",
   "execution_count": null,
   "id": "526892ac-adbd-41f8-bc14-c7131093acdb",
   "metadata": {},
   "outputs": [],
   "source": [
    "Q8. How does bootstrap work and What are the steps involved in bootstrap?\n",
    "\n",
    "Ans:\n",
    "    "
   ]
  },
  {
   "cell_type": "code",
   "execution_count": null,
   "id": "a13edc82-0a72-4129-ab57-9b1110ca710f",
   "metadata": {},
   "outputs": [],
   "source": []
  },
  {
   "cell_type": "code",
   "execution_count": null,
   "id": "6f5733cf-e5a7-4ee8-8bfc-9c9b2b3d2afc",
   "metadata": {},
   "outputs": [],
   "source": []
  },
  {
   "cell_type": "code",
   "execution_count": null,
   "id": "e3e53d1e-1f4a-4686-88fb-00485448b270",
   "metadata": {},
   "outputs": [],
   "source": []
  },
  {
   "cell_type": "code",
   "execution_count": null,
   "id": "6428e376-6f83-4bb6-b903-2d5a438f7c4b",
   "metadata": {},
   "outputs": [],
   "source": []
  }
 ],
 "metadata": {
  "kernelspec": {
   "display_name": "Python 3 (ipykernel)",
   "language": "python",
   "name": "python3"
  },
  "language_info": {
   "codemirror_mode": {
    "name": "ipython",
    "version": 3
   },
   "file_extension": ".py",
   "mimetype": "text/x-python",
   "name": "python",
   "nbconvert_exporter": "python",
   "pygments_lexer": "ipython3",
   "version": "3.10.8"
  }
 },
 "nbformat": 4,
 "nbformat_minor": 5
}
